{
 "cells": [
  {
   "cell_type": "code",
   "execution_count": 110,
   "id": "6fb6f1ce-22e4-4413-a5ec-c7992e891c81",
   "metadata": {},
   "outputs": [],
   "source": [
    "from dotenv import load_dotenv\n",
    "from snowflake.snowpark.session import Session\n",
    "import os\n",
    "\n",
    "load_dotenv()\n",
    "\n",
    "connection_params = {\n",
    "  \"account\":  os.getenv(\"SNOWFLAKE_ACCOUNT\"),\n",
    "  \"user\": os.getenv(\"SNOWFLAKE_USER\"),\n",
    "  \"password\": os.getenv(\"SNOWFLAKE_USER_PASSWORD\"),\n",
    "  \"role\": os.getenv(\"SNOWFLAKE_ROLE\"),\n",
    "  \"database\": os.getenv(\"SNOWFLAKE_DATABASE\"),\n",
    "  \"warehouse\": os.getenv(\"SNOWFLAKE_WAREHOUSE\"),\n",
    "  \"schema\": os.getenv(\"SNOWFLAKE_SCHEMA\")\n",
    "}\n",
    "\n",
    "snowpark_session = Session.builder.configs(connection_params).create()"
   ]
  },
  {
   "cell_type": "code",
   "execution_count": 111,
   "id": "d4b2d091-e7a7-4686-98d6-f5fd3a087514",
   "metadata": {},
   "outputs": [],
   "source": [
    "from snowflake.cortex import Complete\n",
    "\n",
    "# print(Complete(\"mistral-large2\", \"what does my child need to excel in math in the first grade?\", session=snowpark_session))"
   ]
  },
  {
   "cell_type": "code",
   "execution_count": 125,
   "id": "196877d2-2775-48d8-8792-f2da96ebf0f0",
   "metadata": {},
   "outputs": [
    {
     "name": "stdout",
     "output_type": "stream",
     "text": [
      "current path: \n",
      "tree data: GitTreeResponseModel(sha='906ac7416b1e488dc47a85571cf1cbc78d724b37', url='https://api.github.com/repos/JamesKim-4811/SnowflakeRAG/git/trees/906ac7416b1e488dc47a85571cf1cbc78d724b37', tree=[GitTreeResponseModel.GitTreeObject(path='.DS_Store', mode='100644', type='blob', sha='d72263bc78a601699fdcc45eeaa8d1d0d3cf3ab8', url='https://api.github.com/repos/JamesKim-4811/SnowflakeRAG/git/blobs/d72263bc78a601699fdcc45eeaa8d1d0d3cf3ab8', size=6148), GitTreeResponseModel.GitTreeObject(path='.devcontainer', mode='040000', type='tree', sha='436ec75543b9fe5a0d471f703bc19598a9647958', url='https://api.github.com/repos/JamesKim-4811/SnowflakeRAG/git/trees/436ec75543b9fe5a0d471f703bc19598a9647958', size=None), GitTreeResponseModel.GitTreeObject(path='.gitattributes', mode='100644', type='blob', sha='dfe0770424b2a19faf507a501ebfc23be8f54e7b', url='https://api.github.com/repos/JamesKim-4811/SnowflakeRAG/git/blobs/dfe0770424b2a19faf507a501ebfc23be8f54e7b', size=66), GitTreeResponseModel.GitTreeObject(path='.gitignore', mode='100644', type='blob', sha='68bc17f9ff2104a9d7b6777058bb4c343ca72609', url='https://api.github.com/repos/JamesKim-4811/SnowflakeRAG/git/blobs/68bc17f9ff2104a9d7b6777058bb4c343ca72609', size=3078), GitTreeResponseModel.GitTreeObject(path='README.md', mode='100644', type='blob', sha='8b297dc95f6833a1774f1dbd3a5fcc239e52b219', url='https://api.github.com/repos/JamesKim-4811/SnowflakeRAG/git/blobs/8b297dc95f6833a1774f1dbd3a5fcc239e52b219', size=53), GitTreeResponseModel.GitTreeObject(path='Semantic Chunking.ipynb', mode='100644', type='blob', sha='f5bfb4721e492f5363607808683fbccc778c2ff2', url='https://api.github.com/repos/JamesKim-4811/SnowflakeRAG/git/blobs/f5bfb4721e492f5363607808683fbccc778c2ff2', size=264116), GitTreeResponseModel.GitTreeObject(path='docs', mode='040000', type='tree', sha='ddb2aa5e940bae6f41a3e2f42eac075ba5560607', url='https://api.github.com/repos/JamesKim-4811/SnowflakeRAG/git/trees/ddb2aa5e940bae6f41a3e2f42eac075ba5560607', size=None), GitTreeResponseModel.GitTreeObject(path='pythonAPI.py', mode='100644', type='blob', sha='4739caa33b44b39cc4167e593b3ac6570837685c', url='https://api.github.com/repos/JamesKim-4811/SnowflakeRAG/git/blobs/4739caa33b44b39cc4167e593b3ac6570837685c', size=2894), GitTreeResponseModel.GitTreeObject(path='quiz_app.py', mode='100644', type='blob', sha='bee596d3c6a4fae24e0895a1337579c2233299c4', url='https://api.github.com/repos/JamesKim-4811/SnowflakeRAG/git/blobs/bee596d3c6a4fae24e0895a1337579c2233299c4', size=9938), GitTreeResponseModel.GitTreeObject(path='requirements.txt', mode='100644', type='blob', sha='c4b11fac1083200934ac0de7744c897e3bab11bc', url='https://api.github.com/repos/JamesKim-4811/SnowflakeRAG/git/blobs/c4b11fac1083200934ac0de7744c897e3bab11bc', size=2679), GitTreeResponseModel.GitTreeObject(path='semantic_app.py', mode='100644', type='blob', sha='bee596d3c6a4fae24e0895a1337579c2233299c4', url='https://api.github.com/repos/JamesKim-4811/SnowflakeRAG/git/blobs/bee596d3c6a4fae24e0895a1337579c2233299c4', size=9938), GitTreeResponseModel.GitTreeObject(path='streamlit_app.py', mode='100644', type='blob', sha='dd14b8e670c61b8c3d8d830bf22b4f682fe91446', url='https://api.github.com/repos/JamesKim-4811/SnowflakeRAG/git/blobs/dd14b8e670c61b8c3d8d830bf22b4f682fe91446', size=10077)], truncated=False)\n",
      "processing tree 906ac7416b1e488dc47a85571cf1cbc78d724b37\n",
      "Checking .DS_Store whether to FilterType.INCLUDE it based on the filter directories: ['docs']\n",
      "Checking if .DS_Store is a subdirectory of any of the filter directories\n",
      "ignoring .DS_Store due to filter\n",
      "Checking .devcontainer whether to FilterType.INCLUDE it based on the filter directories: ['docs']\n",
      "Checking if .devcontainer is a subdirectory of any of the filter directories\n",
      "ignoring .devcontainer due to filter\n",
      "Checking .gitattributes whether to FilterType.INCLUDE it based on the filter directories: ['docs']\n",
      "Checking if .gitattributes is a subdirectory of any of the filter directories\n",
      "ignoring .gitattributes due to filter\n",
      "Checking .gitignore whether to FilterType.INCLUDE it based on the filter directories: ['docs']\n",
      "Checking if .gitignore is a subdirectory of any of the filter directories\n",
      "ignoring .gitignore due to filter\n",
      "Checking README.md whether to FilterType.INCLUDE it based on the filter directories: ['docs']\n",
      "Checking if README.md is a subdirectory of any of the filter directories\n",
      "ignoring README.md due to filter\n",
      "Checking Semantic Chunking.ipynb whether to FilterType.INCLUDE it based on the filter directories: ['docs']\n",
      "Checking if Semantic Chunking.ipynb is a subdirectory of any of the filter directories\n",
      "ignoring Semantic Chunking.ipynb due to filter\n",
      "Checking docs whether to FilterType.INCLUDE it based on the filter directories: ['docs']\n",
      "Checking if docs is a subdirectory of any of the filter directories\n",
      "tree object: GitTreeResponseModel.GitTreeObject(path='docs', mode='040000', type='tree', sha='ddb2aa5e940bae6f41a3e2f42eac075ba5560607', url='https://api.github.com/repos/JamesKim-4811/SnowflakeRAG/git/trees/ddb2aa5e940bae6f41a3e2f42eac075ba5560607', size=None)\n",
      "recursing into docs\n",
      "\tcurrent path: docs\n",
      "\ttree data: GitTreeResponseModel(sha='ddb2aa5e940bae6f41a3e2f42eac075ba5560607', url='https://api.github.com/repos/JamesKim-4811/SnowflakeRAG/git/trees/ddb2aa5e940bae6f41a3e2f42eac075ba5560607', tree=[GitTreeResponseModel.GitTreeObject(path='.DS_Store', mode='100644', type='blob', sha='6671710fa636056d7525878328441ae31476a518', url='https://api.github.com/repos/JamesKim-4811/SnowflakeRAG/git/blobs/6671710fa636056d7525878328441ae31476a518', size=6148), GitTreeResponseModel.GitTreeObject(path='1st-math-unpacking', mode='040000', type='tree', sha='a2dc1d8f1bc2ba15e9e46ae16a2c9657eeaef0bc', url='https://api.github.com/repos/JamesKim-4811/SnowflakeRAG/git/trees/a2dc1d8f1bc2ba15e9e46ae16a2c9657eeaef0bc', size=None), GitTreeResponseModel.GitTreeObject(path='K-8MathematicsStandards', mode='040000', type='tree', sha='0aa76a6d9e458a7318e139c9d815c0aff8d3fd2e', url='https://api.github.com/repos/JamesKim-4811/SnowflakeRAG/git/trees/0aa76a6d9e458a7318e139c9d815c0aff8d3fd2e', size=None), GitTreeResponseModel.GitTreeObject(path='K-math-unpacking', mode='040000', type='tree', sha='e3c84dcb2f5e383a3c1a09a69c0c90b5ecebe3e2', url='https://api.github.com/repos/JamesKim-4811/SnowflakeRAG/git/trees/e3c84dcb2f5e383a3c1a09a69c0c90b5ecebe3e2', size=None)], truncated=False)\n",
      "\tprocessing tree ddb2aa5e940bae6f41a3e2f42eac075ba5560607\n",
      "Checking docs/.DS_Store whether to FilterType.INCLUDE it based on the filter directories: ['docs']\n",
      "Checking if docs/.DS_Store is a subdirectory of any of the filter directories\n",
      "Checking docs/.DS_Store whether to FilterType.INCLUDE it based on the filter file extensions: ['.md']\n",
      "\tignoring .DS_Store due to filter\n",
      "Checking docs/1st-math-unpacking whether to FilterType.INCLUDE it based on the filter directories: ['docs']\n",
      "Checking if docs/1st-math-unpacking is a subdirectory of any of the filter directories\n",
      "\ttree object: GitTreeResponseModel.GitTreeObject(path='1st-math-unpacking', mode='040000', type='tree', sha='a2dc1d8f1bc2ba15e9e46ae16a2c9657eeaef0bc', url='https://api.github.com/repos/JamesKim-4811/SnowflakeRAG/git/trees/a2dc1d8f1bc2ba15e9e46ae16a2c9657eeaef0bc', size=None)\n",
      "\trecursing into 1st-math-unpacking\n",
      "\t\tcurrent path: docs/1st-math-unpacking\n",
      "\t\ttree data: GitTreeResponseModel(sha='a2dc1d8f1bc2ba15e9e46ae16a2c9657eeaef0bc', url='https://api.github.com/repos/JamesKim-4811/SnowflakeRAG/git/trees/a2dc1d8f1bc2ba15e9e46ae16a2c9657eeaef0bc', tree=[GitTreeResponseModel.GitTreeObject(path='1st-math-unpacking.md', mode='100644', type='blob', sha='7e85a63f313afa672a746eb64f76a36b98a4827d', url='https://api.github.com/repos/JamesKim-4811/SnowflakeRAG/git/blobs/7e85a63f313afa672a746eb64f76a36b98a4827d', size=64341), GitTreeResponseModel.GitTreeObject(path='1st-math-unpacking_meta.json', mode='100644', type='blob', sha='07e6d3d88f24a3f78518ca2d3685580ffb76ccbb', url='https://api.github.com/repos/JamesKim-4811/SnowflakeRAG/git/blobs/07e6d3d88f24a3f78518ca2d3685580ffb76ccbb', size=26073), GitTreeResponseModel.GitTreeObject(path='_page_0_Picture_0.jpeg', mode='100644', type='blob', sha='e160c887cfd81e256a66bfec3fc79f46c9b276b9', url='https://api.github.com/repos/JamesKim-4811/SnowflakeRAG/git/blobs/e160c887cfd81e256a66bfec3fc79f46c9b276b9', size=22809), GitTreeResponseModel.GitTreeObject(path='_page_23_Figure_4.jpeg', mode='100644', type='blob', sha='386e9146e7b6f82079632ed9d63c1750f1a272e8', url='https://api.github.com/repos/JamesKim-4811/SnowflakeRAG/git/blobs/386e9146e7b6f82079632ed9d63c1750f1a272e8', size=207248)], truncated=False)\n",
      "\t\tprocessing tree a2dc1d8f1bc2ba15e9e46ae16a2c9657eeaef0bc\n",
      "Checking docs/1st-math-unpacking/1st-math-unpacking.md whether to FilterType.INCLUDE it based on the filter directories: ['docs']\n",
      "Checking if docs/1st-math-unpacking/1st-math-unpacking.md is a subdirectory of any of the filter directories\n",
      "Checking docs/1st-math-unpacking/1st-math-unpacking.md whether to FilterType.INCLUDE it based on the filter file extensions: ['.md']\n",
      "\t\ttree object: GitTreeResponseModel.GitTreeObject(path='1st-math-unpacking.md', mode='100644', type='blob', sha='7e85a63f313afa672a746eb64f76a36b98a4827d', url='https://api.github.com/repos/JamesKim-4811/SnowflakeRAG/git/blobs/7e85a63f313afa672a746eb64f76a36b98a4827d', size=64341)\n",
      "\t\tfound blob 1st-math-unpacking.md\n",
      "\t\tblob and full paths: [(GitTreeResponseModel.GitTreeObject(path='1st-math-unpacking.md', mode='100644', type='blob', sha='7e85a63f313afa672a746eb64f76a36b98a4827d', url='https://api.github.com/repos/JamesKim-4811/SnowflakeRAG/git/blobs/7e85a63f313afa672a746eb64f76a36b98a4827d', size=64341), 'docs/1st-math-unpacking/1st-math-unpacking.md')]\n",
      "Checking docs/1st-math-unpacking/1st-math-unpacking_meta.json whether to FilterType.INCLUDE it based on the filter directories: ['docs']\n",
      "Checking if docs/1st-math-unpacking/1st-math-unpacking_meta.json is a subdirectory of any of the filter directories\n",
      "Checking docs/1st-math-unpacking/1st-math-unpacking_meta.json whether to FilterType.INCLUDE it based on the filter file extensions: ['.md']\n",
      "\t\tignoring 1st-math-unpacking_meta.json due to filter\n",
      "Checking docs/1st-math-unpacking/_page_0_Picture_0.jpeg whether to FilterType.INCLUDE it based on the filter directories: ['docs']\n",
      "Checking if docs/1st-math-unpacking/_page_0_Picture_0.jpeg is a subdirectory of any of the filter directories\n",
      "Checking docs/1st-math-unpacking/_page_0_Picture_0.jpeg whether to FilterType.INCLUDE it based on the filter file extensions: ['.md']\n",
      "\t\tignoring _page_0_Picture_0.jpeg due to filter\n",
      "Checking docs/1st-math-unpacking/_page_23_Figure_4.jpeg whether to FilterType.INCLUDE it based on the filter directories: ['docs']\n",
      "Checking if docs/1st-math-unpacking/_page_23_Figure_4.jpeg is a subdirectory of any of the filter directories\n",
      "Checking docs/1st-math-unpacking/_page_23_Figure_4.jpeg whether to FilterType.INCLUDE it based on the filter file extensions: ['.md']\n",
      "\t\tignoring _page_23_Figure_4.jpeg due to filter\n",
      "\tblob and full paths: [(GitTreeResponseModel.GitTreeObject(path='1st-math-unpacking.md', mode='100644', type='blob', sha='7e85a63f313afa672a746eb64f76a36b98a4827d', url='https://api.github.com/repos/JamesKim-4811/SnowflakeRAG/git/blobs/7e85a63f313afa672a746eb64f76a36b98a4827d', size=64341), 'docs/1st-math-unpacking/1st-math-unpacking.md')]\n",
      "Checking docs/K-8MathematicsStandards whether to FilterType.INCLUDE it based on the filter directories: ['docs']\n",
      "Checking if docs/K-8MathematicsStandards is a subdirectory of any of the filter directories\n",
      "\ttree object: GitTreeResponseModel.GitTreeObject(path='K-8MathematicsStandards', mode='040000', type='tree', sha='0aa76a6d9e458a7318e139c9d815c0aff8d3fd2e', url='https://api.github.com/repos/JamesKim-4811/SnowflakeRAG/git/trees/0aa76a6d9e458a7318e139c9d815c0aff8d3fd2e', size=None)\n",
      "\trecursing into K-8MathematicsStandards\n",
      "\t\tcurrent path: docs/K-8MathematicsStandards\n",
      "\t\ttree data: GitTreeResponseModel(sha='0aa76a6d9e458a7318e139c9d815c0aff8d3fd2e', url='https://api.github.com/repos/JamesKim-4811/SnowflakeRAG/git/trees/0aa76a6d9e458a7318e139c9d815c0aff8d3fd2e', tree=[GitTreeResponseModel.GitTreeObject(path='K-8MathematicsStandards.md', mode='100644', type='blob', sha='e5ca5eaeb1a9601857ac6cdba4ab01bbb41c4280', url='https://api.github.com/repos/JamesKim-4811/SnowflakeRAG/git/blobs/e5ca5eaeb1a9601857ac6cdba4ab01bbb41c4280', size=73739), GitTreeResponseModel.GitTreeObject(path='K-8MathematicsStandards_meta.json', mode='100644', type='blob', sha='93607637935a8dbfca993652b2c811e7cac463dc', url='https://api.github.com/repos/JamesKim-4811/SnowflakeRAG/git/blobs/93607637935a8dbfca993652b2c811e7cac463dc', size=22283), GitTreeResponseModel.GitTreeObject(path='_page_0_Picture_0.jpeg', mode='100644', type='blob', sha='66f753fa88d7d840b8a67a480692c35a3a55b75d', url='https://api.github.com/repos/JamesKim-4811/SnowflakeRAG/git/blobs/66f753fa88d7d840b8a67a480692c35a3a55b75d', size=31236)], truncated=False)\n",
      "\t\tprocessing tree 0aa76a6d9e458a7318e139c9d815c0aff8d3fd2e\n",
      "Checking docs/K-8MathematicsStandards/K-8MathematicsStandards.md whether to FilterType.INCLUDE it based on the filter directories: ['docs']\n",
      "Checking if docs/K-8MathematicsStandards/K-8MathematicsStandards.md is a subdirectory of any of the filter directories\n",
      "Checking docs/K-8MathematicsStandards/K-8MathematicsStandards.md whether to FilterType.INCLUDE it based on the filter file extensions: ['.md']\n",
      "\t\ttree object: GitTreeResponseModel.GitTreeObject(path='K-8MathematicsStandards.md', mode='100644', type='blob', sha='e5ca5eaeb1a9601857ac6cdba4ab01bbb41c4280', url='https://api.github.com/repos/JamesKim-4811/SnowflakeRAG/git/blobs/e5ca5eaeb1a9601857ac6cdba4ab01bbb41c4280', size=73739)\n",
      "\t\tfound blob K-8MathematicsStandards.md\n",
      "\t\tblob and full paths: [(GitTreeResponseModel.GitTreeObject(path='K-8MathematicsStandards.md', mode='100644', type='blob', sha='e5ca5eaeb1a9601857ac6cdba4ab01bbb41c4280', url='https://api.github.com/repos/JamesKim-4811/SnowflakeRAG/git/blobs/e5ca5eaeb1a9601857ac6cdba4ab01bbb41c4280', size=73739), 'docs/K-8MathematicsStandards/K-8MathematicsStandards.md')]\n",
      "Checking docs/K-8MathematicsStandards/K-8MathematicsStandards_meta.json whether to FilterType.INCLUDE it based on the filter directories: ['docs']\n",
      "Checking if docs/K-8MathematicsStandards/K-8MathematicsStandards_meta.json is a subdirectory of any of the filter directories\n",
      "Checking docs/K-8MathematicsStandards/K-8MathematicsStandards_meta.json whether to FilterType.INCLUDE it based on the filter file extensions: ['.md']\n",
      "\t\tignoring K-8MathematicsStandards_meta.json due to filter\n",
      "Checking docs/K-8MathematicsStandards/_page_0_Picture_0.jpeg whether to FilterType.INCLUDE it based on the filter directories: ['docs']\n",
      "Checking if docs/K-8MathematicsStandards/_page_0_Picture_0.jpeg is a subdirectory of any of the filter directories\n",
      "Checking docs/K-8MathematicsStandards/_page_0_Picture_0.jpeg whether to FilterType.INCLUDE it based on the filter file extensions: ['.md']\n",
      "\t\tignoring _page_0_Picture_0.jpeg due to filter\n",
      "\tblob and full paths: [(GitTreeResponseModel.GitTreeObject(path='1st-math-unpacking.md', mode='100644', type='blob', sha='7e85a63f313afa672a746eb64f76a36b98a4827d', url='https://api.github.com/repos/JamesKim-4811/SnowflakeRAG/git/blobs/7e85a63f313afa672a746eb64f76a36b98a4827d', size=64341), 'docs/1st-math-unpacking/1st-math-unpacking.md'), (GitTreeResponseModel.GitTreeObject(path='K-8MathematicsStandards.md', mode='100644', type='blob', sha='e5ca5eaeb1a9601857ac6cdba4ab01bbb41c4280', url='https://api.github.com/repos/JamesKim-4811/SnowflakeRAG/git/blobs/e5ca5eaeb1a9601857ac6cdba4ab01bbb41c4280', size=73739), 'docs/K-8MathematicsStandards/K-8MathematicsStandards.md')]\n",
      "Checking docs/K-math-unpacking whether to FilterType.INCLUDE it based on the filter directories: ['docs']\n",
      "Checking if docs/K-math-unpacking is a subdirectory of any of the filter directories\n",
      "\ttree object: GitTreeResponseModel.GitTreeObject(path='K-math-unpacking', mode='040000', type='tree', sha='e3c84dcb2f5e383a3c1a09a69c0c90b5ecebe3e2', url='https://api.github.com/repos/JamesKim-4811/SnowflakeRAG/git/trees/e3c84dcb2f5e383a3c1a09a69c0c90b5ecebe3e2', size=None)\n",
      "\trecursing into K-math-unpacking\n",
      "\t\tcurrent path: docs/K-math-unpacking\n",
      "\t\ttree data: GitTreeResponseModel(sha='e3c84dcb2f5e383a3c1a09a69c0c90b5ecebe3e2', url='https://api.github.com/repos/JamesKim-4811/SnowflakeRAG/git/trees/e3c84dcb2f5e383a3c1a09a69c0c90b5ecebe3e2', tree=[GitTreeResponseModel.GitTreeObject(path='K-math-unpacking.md', mode='100644', type='blob', sha='a72884d2e7720ddfaa9a17d90e08aedbb58eb284', url='https://api.github.com/repos/JamesKim-4811/SnowflakeRAG/git/blobs/a72884d2e7720ddfaa9a17d90e08aedbb58eb284', size=55207), GitTreeResponseModel.GitTreeObject(path='K-math-unpacking_meta.json', mode='100644', type='blob', sha='5c3a083f93544267e4876aacab7a072574e491b6', url='https://api.github.com/repos/JamesKim-4811/SnowflakeRAG/git/blobs/5c3a083f93544267e4876aacab7a072574e491b6', size=23249), GitTreeResponseModel.GitTreeObject(path='_page_0_Picture_0.jpeg', mode='100644', type='blob', sha='019495f1fc5cfbb183da107887b84e92190ba238', url='https://api.github.com/repos/JamesKim-4811/SnowflakeRAG/git/blobs/019495f1fc5cfbb183da107887b84e92190ba238', size=22640)], truncated=False)\n",
      "\t\tprocessing tree e3c84dcb2f5e383a3c1a09a69c0c90b5ecebe3e2\n",
      "Checking docs/K-math-unpacking/K-math-unpacking.md whether to FilterType.INCLUDE it based on the filter directories: ['docs']\n",
      "Checking if docs/K-math-unpacking/K-math-unpacking.md is a subdirectory of any of the filter directories\n",
      "Checking docs/K-math-unpacking/K-math-unpacking.md whether to FilterType.INCLUDE it based on the filter file extensions: ['.md']\n",
      "\t\ttree object: GitTreeResponseModel.GitTreeObject(path='K-math-unpacking.md', mode='100644', type='blob', sha='a72884d2e7720ddfaa9a17d90e08aedbb58eb284', url='https://api.github.com/repos/JamesKim-4811/SnowflakeRAG/git/blobs/a72884d2e7720ddfaa9a17d90e08aedbb58eb284', size=55207)\n",
      "\t\tfound blob K-math-unpacking.md\n",
      "\t\tblob and full paths: [(GitTreeResponseModel.GitTreeObject(path='K-math-unpacking.md', mode='100644', type='blob', sha='a72884d2e7720ddfaa9a17d90e08aedbb58eb284', url='https://api.github.com/repos/JamesKim-4811/SnowflakeRAG/git/blobs/a72884d2e7720ddfaa9a17d90e08aedbb58eb284', size=55207), 'docs/K-math-unpacking/K-math-unpacking.md')]\n",
      "Checking docs/K-math-unpacking/K-math-unpacking_meta.json whether to FilterType.INCLUDE it based on the filter directories: ['docs']\n",
      "Checking if docs/K-math-unpacking/K-math-unpacking_meta.json is a subdirectory of any of the filter directories\n",
      "Checking docs/K-math-unpacking/K-math-unpacking_meta.json whether to FilterType.INCLUDE it based on the filter file extensions: ['.md']\n",
      "\t\tignoring K-math-unpacking_meta.json due to filter\n",
      "Checking docs/K-math-unpacking/_page_0_Picture_0.jpeg whether to FilterType.INCLUDE it based on the filter directories: ['docs']\n",
      "Checking if docs/K-math-unpacking/_page_0_Picture_0.jpeg is a subdirectory of any of the filter directories\n",
      "Checking docs/K-math-unpacking/_page_0_Picture_0.jpeg whether to FilterType.INCLUDE it based on the filter file extensions: ['.md']\n",
      "\t\tignoring _page_0_Picture_0.jpeg due to filter\n",
      "\tblob and full paths: [(GitTreeResponseModel.GitTreeObject(path='1st-math-unpacking.md', mode='100644', type='blob', sha='7e85a63f313afa672a746eb64f76a36b98a4827d', url='https://api.github.com/repos/JamesKim-4811/SnowflakeRAG/git/blobs/7e85a63f313afa672a746eb64f76a36b98a4827d', size=64341), 'docs/1st-math-unpacking/1st-math-unpacking.md'), (GitTreeResponseModel.GitTreeObject(path='K-8MathematicsStandards.md', mode='100644', type='blob', sha='e5ca5eaeb1a9601857ac6cdba4ab01bbb41c4280', url='https://api.github.com/repos/JamesKim-4811/SnowflakeRAG/git/blobs/e5ca5eaeb1a9601857ac6cdba4ab01bbb41c4280', size=73739), 'docs/K-8MathematicsStandards/K-8MathematicsStandards.md'), (GitTreeResponseModel.GitTreeObject(path='K-math-unpacking.md', mode='100644', type='blob', sha='a72884d2e7720ddfaa9a17d90e08aedbb58eb284', url='https://api.github.com/repos/JamesKim-4811/SnowflakeRAG/git/blobs/a72884d2e7720ddfaa9a17d90e08aedbb58eb284', size=55207), 'docs/K-math-unpacking/K-math-unpacking.md')]\n",
      "blob and full paths: [(GitTreeResponseModel.GitTreeObject(path='1st-math-unpacking.md', mode='100644', type='blob', sha='7e85a63f313afa672a746eb64f76a36b98a4827d', url='https://api.github.com/repos/JamesKim-4811/SnowflakeRAG/git/blobs/7e85a63f313afa672a746eb64f76a36b98a4827d', size=64341), 'docs/1st-math-unpacking/1st-math-unpacking.md'), (GitTreeResponseModel.GitTreeObject(path='K-8MathematicsStandards.md', mode='100644', type='blob', sha='e5ca5eaeb1a9601857ac6cdba4ab01bbb41c4280', url='https://api.github.com/repos/JamesKim-4811/SnowflakeRAG/git/blobs/e5ca5eaeb1a9601857ac6cdba4ab01bbb41c4280', size=73739), 'docs/K-8MathematicsStandards/K-8MathematicsStandards.md'), (GitTreeResponseModel.GitTreeObject(path='K-math-unpacking.md', mode='100644', type='blob', sha='a72884d2e7720ddfaa9a17d90e08aedbb58eb284', url='https://api.github.com/repos/JamesKim-4811/SnowflakeRAG/git/blobs/a72884d2e7720ddfaa9a17d90e08aedbb58eb284', size=55207), 'docs/K-math-unpacking/K-math-unpacking.md')]\n",
      "Checking pythonAPI.py whether to FilterType.INCLUDE it based on the filter directories: ['docs']\n",
      "Checking if pythonAPI.py is a subdirectory of any of the filter directories\n",
      "ignoring pythonAPI.py due to filter\n",
      "Checking quiz_app.py whether to FilterType.INCLUDE it based on the filter directories: ['docs']\n",
      "Checking if quiz_app.py is a subdirectory of any of the filter directories\n",
      "ignoring quiz_app.py due to filter\n",
      "Checking requirements.txt whether to FilterType.INCLUDE it based on the filter directories: ['docs']\n",
      "Checking if requirements.txt is a subdirectory of any of the filter directories\n",
      "ignoring requirements.txt due to filter\n",
      "Checking semantic_app.py whether to FilterType.INCLUDE it based on the filter directories: ['docs']\n",
      "Checking if semantic_app.py is a subdirectory of any of the filter directories\n",
      "ignoring semantic_app.py due to filter\n",
      "Checking streamlit_app.py whether to FilterType.INCLUDE it based on the filter directories: ['docs']\n",
      "Checking if streamlit_app.py is a subdirectory of any of the filter directories\n",
      "ignoring streamlit_app.py due to filter\n",
      "got 3 blobs\n",
      "Time to get blobs ([('1st-math-unpacking.md', 64341), ('K-8MathematicsStandards.md', 73739), ('K-math-unpacking.md', 55207)]): 0.19 seconds\n",
      "generating document for docs/1st-math-unpacking/1st-math-unpacking.md\n",
      "got 64152 characters- adding to documents - docs/1st-math-unpacking/1st-math-unpacking.md\n",
      "generating document for docs/K-8MathematicsStandards/K-8MathematicsStandards.md\n",
      "got 73150 characters- adding to documents - docs/K-8MathematicsStandards/K-8MathematicsStandards.md\n",
      "generating document for docs/K-math-unpacking/K-math-unpacking.md\n",
      "got 55111 characters- adding to documents - docs/K-math-unpacking/K-math-unpacking.md\n"
     ]
    }
   ],
   "source": [
    "import nest_asyncio\n",
    "nest_asyncio.apply()\n",
    "\n",
    "from llama_index.readers.github import GithubRepositoryReader, GithubClient\n",
    "\n",
    "github_token = os.environ[\"GITHUB_TOKEN\"]\n",
    "github_client = GithubClient(github_token=github_token, verbose=False)\n",
    "\n",
    "reader = GithubRepositoryReader(\n",
    "  github_client=github_client,\n",
    "  owner=\"JamesKim-4811\",\n",
    "  repo=\"SnowflakeRAG\",\n",
    "  use_parser=False,\n",
    "  verbose=True,\n",
    "  filter_directories=(\n",
    "    [\"docs\"],\n",
    "    GithubRepositoryReader.FilterType.INCLUDE,\n",
    "  ),\n",
    "  filter_file_extensions=(\n",
    "    [\".md\"],\n",
    "    GithubRepositoryReader.FilterType.INCLUDE,\n",
    "  )\n",
    ")\n",
    "\n",
    "documents = reader.load_data(branch=\"main\")"
   ]
  },
  {
   "cell_type": "code",
   "execution_count": 113,
   "id": "564075f0-87ee-4b3d-82ea-404ed389ff1b",
   "metadata": {
    "scrolled": true
   },
   "outputs": [],
   "source": [
    "# documents"
   ]
  },
  {
   "cell_type": "code",
   "execution_count": 126,
   "id": "79cc5eb1-97db-4280-be62-56f15d6bfd4c",
   "metadata": {},
   "outputs": [],
   "source": [
    "from llama_index.embeddings.huggingface import HuggingFaceEmbedding\n",
    "from llama_index.core.node_parser import SemanticSplitterNodeParser\n",
    "\n",
    "embed_model = HuggingFaceEmbedding(\"Snowflake/snowflake-arctic-embed-m\")\n",
    "\n",
    "splitter = SemanticSplitterNodeParser(\n",
    "  buffer_size=1, breakpoint_percentile_threshold=85, embed_model=embed_model\n",
    ") "
   ]
  },
  {
   "cell_type": "code",
   "execution_count": 127,
   "id": "95de26ad-1e85-4467-99b6-423e1385a820",
   "metadata": {},
   "outputs": [
    {
     "data": {
      "application/vnd.jupyter.widget-view+json": {
       "model_id": "dba8461ff8dc4b83b4c914b567952c6b",
       "version_major": 2,
       "version_minor": 0
      },
      "text/plain": [
       "Parsing nodes:   0%|          | 0/3 [00:00<?, ?it/s]"
      ]
     },
     "metadata": {},
     "output_type": "display_data"
    },
    {
     "data": {
      "application/vnd.jupyter.widget-view+json": {
       "model_id": "7269a2b72e6443fbadaebd0a1e161264",
       "version_major": 2,
       "version_minor": 0
      },
      "text/plain": [
       "Generating embeddings:   0%|          | 0/739 [00:00<?, ?it/s]"
      ]
     },
     "metadata": {},
     "output_type": "display_data"
    },
    {
     "data": {
      "application/vnd.jupyter.widget-view+json": {
       "model_id": "62e63049d7a84279ababea64076e2247",
       "version_major": 2,
       "version_minor": 0
      },
      "text/plain": [
       "Generating embeddings:   0%|          | 0/717 [00:00<?, ?it/s]"
      ]
     },
     "metadata": {},
     "output_type": "display_data"
    },
    {
     "data": {
      "application/vnd.jupyter.widget-view+json": {
       "model_id": "f5284f4cbc544fe0831eb66ccb3ce99e",
       "version_major": 2,
       "version_minor": 0
      },
      "text/plain": [
       "Generating embeddings:   0%|          | 0/578 [00:00<?, ?it/s]"
      ]
     },
     "metadata": {},
     "output_type": "display_data"
    }
   ],
   "source": [
    "from llama_index.core.ingestion import IngestionPipeline\n",
    "\n",
    "cortex_search_pipeline = IngestionPipeline(\n",
    "  transformations=[\n",
    "    splitter,\n",
    "  ],\n",
    ")\n",
    "\n",
    "results = cortex_search_pipeline.run(show_progress=True, documents=documents)"
   ]
  },
  {
   "cell_type": "code",
   "execution_count": 116,
   "id": "3d5ad6d6-74d6-4590-8a6b-9000c08bb0ea",
   "metadata": {},
   "outputs": [],
   "source": [
    "# results[0]"
   ]
  },
  {
   "cell_type": "code",
   "execution_count": 117,
   "id": "2f9c0f93-6415-421f-a9e5-b1c288828789",
   "metadata": {},
   "outputs": [],
   "source": [
    "# print(results[0].metadata['url'])\n",
    "# updated_url = results[0].metadata['url'].replace('api.', '').replace('.md', '.pdf')\n",
    "# print(updated_url)"
   ]
  },
  {
   "cell_type": "code",
   "execution_count": 118,
   "id": "b7344d59-0d95-444a-b70c-d7f2a06712d0",
   "metadata": {},
   "outputs": [],
   "source": [
    "# from snowflake.cortex import Complete\n",
    "# prompt = f\"Given the name of the file between <file> and </file>, determine the intended grade. Use only one word. <file> {results[0].metadata['file_name']} </file>\"\n",
    "# response = Complete(model=\"mistral-large2\", prompt=prompt, session=snowpark_session)\n",
    "# print(response)\n",
    "\n",
    "# # print(Complete(\"mistral-large2\", 'Given the name of the file between <file> and </file> determine if it is related to math, science, or english. Use only one word <file> ' + results[0].metadata['file_name'] + '</file>'))"
   ]
  },
  {
   "cell_type": "code",
   "execution_count": 119,
   "id": "6b645f62-12b0-4562-ae74-c35c20766257",
   "metadata": {},
   "outputs": [],
   "source": [
    "# for curr in tqdm(results[0]):\n",
    "#     print(curr[1])"
   ]
  },
  {
   "cell_type": "code",
   "execution_count": 120,
   "id": "fbfe50dd-d945-4db1-b260-f6f1ce93a697",
   "metadata": {},
   "outputs": [],
   "source": [
    "# for curr in tqdm(results[0]):\n",
    "#     print(curr[1])"
   ]
  },
  {
   "cell_type": "code",
   "execution_count": 128,
   "id": "be0ffba8-6a0e-4ca2-8354-b114a5bc77d6",
   "metadata": {},
   "outputs": [
    {
     "data": {
      "application/vnd.jupyter.widget-view+json": {
       "model_id": "a8976d70bb0c4cf78d7154d3ca4533bb",
       "version_major": 2,
       "version_minor": 0
      },
      "text/plain": [
       "  0%|          | 0/309 [00:00<?, ?it/s]"
      ]
     },
     "metadata": {},
     "output_type": "display_data"
    }
   ],
   "source": [
    "import os\n",
    "import snowflake.connector\n",
    "from tqdm.auto import tqdm\n",
    "\n",
    "snowflake_connector = snowflake.connector.connect(**connection_params)\n",
    "\n",
    "cursor = snowflake_connector.cursor()\n",
    "cursor.execute(\"\"\"\n",
    "    CREATE OR REPLACE TABLE education_docs(\n",
    "        doc_text VARCHAR,\n",
    "        GRADE VARCHAR,\n",
    "        SUBJECT VARCHAR,\n",
    "        DOCTYPE VARCHAR, \n",
    "        RELATIVE_PATH VARCHAR, \n",
    "        FILE_URL VARCHAR\n",
    "    )\n",
    "\"\"\")\n",
    "for curr in tqdm(results):\n",
    "    prompt1 = f\"Given the name of the file between <file> and </file>, determine the intended grade. Use only one word. <file> {curr.metadata['file_name']} </file>\"\n",
    "    prompt2 = f\"Given the name of the file between <file> and </file>, determine the intended school subject. Use only one word. <file> {curr.metadata['file_name']} </file>\"\n",
    "    prompt3 = f\"Given the name of the file between <file> and </file>, determine if it is the standards or unpacking. Use only one word. <file> {curr.metadata['file_name']} </file>\"\n",
    "\n",
    "    cursor.execute(\"\"\"\n",
    "        INSERT INTO education_docs \n",
    "        (doc_text, GRADE, SUBJECT, DOCTYPE, RELATIVE_PATH, FILE_URL)\n",
    "        VALUES (%s, %s, %s, %s, %s, %s)\n",
    "    \"\"\", (curr.text, \n",
    "          Complete(model=\"mistral-large2\", prompt=prompt1, session=snowpark_session),\n",
    "          Complete(model=\"mistral-large2\", prompt=prompt2, session=snowpark_session),\n",
    "          Complete(model=\"mistral-large2\", prompt=prompt3, session=snowpark_session),\n",
    "          curr.metadata['file_path'].replace('.md', '.pdf'),\n",
    "          curr.metadata['url'].replace('api.', '').replace('.md', '.pdf')\n",
    "         ))\n"
   ]
  },
  {
   "cell_type": "code",
   "execution_count": 129,
   "id": "fb80c4e7-cc84-4b75-a2a9-75d0ec7bed92",
   "metadata": {},
   "outputs": [],
   "source": [
    "import os\n",
    "from snowflake.core import Root\n",
    "from typing import List\n",
    "\n",
    "class CortexSearchRetriever:\n",
    "\n",
    "    def __init__(self, session: Session, limit_to_retrieve: int = 4):\n",
    "        self._session = session\n",
    "        self._limit_to_retrieve = limit_to_retrieve\n",
    "\n",
    "    def retrieve(self, query: str) -> List[str]:\n",
    "        root = Root(self._session)\n",
    "        cortex_search_service = (\n",
    "        root\n",
    "        .databases[os.environ[\"SNOWFLAKE_DATABASE\"]]\n",
    "        .schemas[os.environ[\"SNOWFLAKE_SCHEMA\"]]\n",
    "        .cortex_search_services[os.environ[\"SNOWFLAKE_CORTEX_SEARCH_SERVICE\"]]\n",
    "    )\n",
    "        resp = cortex_search_service.search(\n",
    "                query=query,\n",
    "                columns=[\"doc_text\"],\n",
    "                limit=self._limit_to_retrieve,\n",
    "            )\n",
    "\n",
    "        if resp.results:\n",
    "            return [curr[\"doc_text\"] for curr in resp.results]\n",
    "        else:\n",
    "            return []"
   ]
  },
  {
   "cell_type": "code",
   "execution_count": 123,
   "id": "7defa4f5-bf0c-44c6-9c2e-c8addfb453ed",
   "metadata": {},
   "outputs": [],
   "source": [
    "# retriever = CortexSearchRetriever(session=snowpark_session, limit_to_retrieve=4)\n",
    "\n",
    "# retrieved_context = retriever.retrieve(query=\"what does my child need to excel in math in the first grade?\")\n",
    "\n",
    "# len(retrieved_context)"
   ]
  },
  {
   "cell_type": "code",
   "execution_count": 124,
   "id": "cf24335e-4850-43bb-89ec-a3bee271a0d5",
   "metadata": {},
   "outputs": [],
   "source": [
    "# retriever.retrieve(query=\"what does my child need to excel in math in the first grade?\")"
   ]
  },
  {
   "cell_type": "code",
   "execution_count": null,
   "id": "fbbf7a5a-f011-4850-bd61-a042d287917c",
   "metadata": {},
   "outputs": [],
   "source": []
  }
 ],
 "metadata": {
  "kernelspec": {
   "display_name": "Python 3 (ipykernel)",
   "language": "python",
   "name": "python3"
  },
  "language_info": {
   "codemirror_mode": {
    "name": "ipython",
    "version": 3
   },
   "file_extension": ".py",
   "mimetype": "text/x-python",
   "name": "python",
   "nbconvert_exporter": "python",
   "pygments_lexer": "ipython3",
   "version": "3.11.10"
  }
 },
 "nbformat": 4,
 "nbformat_minor": 5
}
