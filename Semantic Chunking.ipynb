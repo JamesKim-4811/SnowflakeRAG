{
 "cells": [
  {
   "cell_type": "code",
   "execution_count": 1,
   "id": "6fb6f1ce-22e4-4413-a5ec-c7992e891c81",
   "metadata": {},
   "outputs": [],
   "source": [
    "from dotenv import load_dotenv\n",
    "from snowflake.snowpark.session import Session\n",
    "import os\n",
    "\n",
    "load_dotenv()\n",
    "\n",
    "connection_params = {\n",
    "  \"account\":  os.getenv(\"SNOWFLAKE_ACCOUNT\"),\n",
    "  \"user\": os.getenv(\"SNOWFLAKE_USER\"),\n",
    "  \"password\": os.getenv(\"SNOWFLAKE_USER_PASSWORD\"),\n",
    "  \"role\": os.getenv(\"SNOWFLAKE_ROLE\"),\n",
    "  \"database\": os.getenv(\"SNOWFLAKE_DATABASE\"),\n",
    "  \"warehouse\": os.getenv(\"SNOWFLAKE_WAREHOUSE\"),\n",
    "  \"schema\": os.getenv(\"SNOWFLAKE_SCHEMA\")\n",
    "}\n",
    "\n",
    "snowpark_session = Session.builder.configs(connection_params).create()"
   ]
  },
  {
   "cell_type": "code",
   "execution_count": 2,
   "id": "d4b2d091-e7a7-4686-98d6-f5fd3a087514",
   "metadata": {},
   "outputs": [
    {
     "name": "stdout",
     "output_type": "stream",
     "text": [
      " To excel in math in the first grade, your child will benefit from a strong foundation in basic concepts and skills. Here are some key areas to focus on:\n",
      "\n",
      "1. **Number Sense:**\n",
      "   - Understanding numbers 1-20, including counting, reading, and writing them.\n",
      "   - Comparing two numbers to identify which is greater or lesser.\n",
      "   - Understanding the concepts of more, less, and equal.\n",
      "\n",
      "2. **Addition and Subtraction:**\n",
      "   - Solving simple addition and subtraction problems up to 10 (e.g., 3+2, 5-1).\n",
      "   - Using objects or drawings to solve problems (e.g., if you have 3 apples and get 2 more, how many do you have?).\n",
      "\n",
      "3. **Measurement:**\n",
      "   - Comparing lengths and heights using terms like longer/shorter, taller/shorter.\n",
      "   - Identifying and comparing shapes based on size.\n",
      "\n",
      "4. **Geometry:**\n",
      "   - Recognizing and naming basic shapes (circle, square, rectangle, triangle, hexagon, oval, star).\n",
      "   - Describing the relative position of objects using terms like above, below, next to, in front of, and behind.\n",
      "\n",
      "5. **Data and Graphs:**\n",
      "   - Sorting and classifying objects based on their attributes (e.g., color, size, shape).\n",
      "   - Creating and interpreting simple graphs (e.g., picture graphs, bar graphs).\n",
      "\n",
      "6. **Problem-Solving:**\n",
      "   - Applying math skills to solve real-world problems.\n",
      "   - Explaining the reasoning behind answers.\n",
      "\n",
      "To support your child's learning, you can:\n",
      "\n",
      "- Make math fun and engaging through games, puzzles, and real-life activities.\n",
      "- Use manipulatives (e.g., counters, base-10 blocks, number lines) to help your child visualize math concepts.\n",
      "- Read books that incorporate math concepts.\n",
      "- Encourage your child to explain their thinking and ask questions.\n",
      "- Practice math regularly to build confidence and reinforce skills.\n",
      "- Maintain a positive attitude towards math and be supportive of your child's learning journey.\n"
     ]
    }
   ],
   "source": [
    "from snowflake.cortex import Complete\n",
    "\n",
    "print(Complete(\"mistral-large2\", \"what does my child need to excel in math in the first grade?\"))"
   ]
  },
  {
   "cell_type": "code",
   "execution_count": 5,
   "id": "196877d2-2775-48d8-8792-f2da96ebf0f0",
   "metadata": {},
   "outputs": [
    {
     "name": "stdout",
     "output_type": "stream",
     "text": [
      "current path: \n",
      "tree data: GitTreeResponseModel(sha='9d363066f4424c7b2f3600a6ef220bcd55d63462', url='https://api.github.com/repos/JamesKim-4811/SnowflakeRAG/git/trees/9d363066f4424c7b2f3600a6ef220bcd55d63462', tree=[GitTreeResponseModel.GitTreeObject(path='.DS_Store', mode='100644', type='blob', sha='2755d0219bb1991fb563ffbf3a5a6946ef378cfe', url='https://api.github.com/repos/JamesKim-4811/SnowflakeRAG/git/blobs/2755d0219bb1991fb563ffbf3a5a6946ef378cfe', size=6148), GitTreeResponseModel.GitTreeObject(path='.devcontainer', mode='040000', type='tree', sha='436ec75543b9fe5a0d471f703bc19598a9647958', url='https://api.github.com/repos/JamesKim-4811/SnowflakeRAG/git/trees/436ec75543b9fe5a0d471f703bc19598a9647958', size=None), GitTreeResponseModel.GitTreeObject(path='.gitattributes', mode='100644', type='blob', sha='dfe0770424b2a19faf507a501ebfc23be8f54e7b', url='https://api.github.com/repos/JamesKim-4811/SnowflakeRAG/git/blobs/dfe0770424b2a19faf507a501ebfc23be8f54e7b', size=66), GitTreeResponseModel.GitTreeObject(path='.gitignore', mode='100644', type='blob', sha='68bc17f9ff2104a9d7b6777058bb4c343ca72609', url='https://api.github.com/repos/JamesKim-4811/SnowflakeRAG/git/blobs/68bc17f9ff2104a9d7b6777058bb4c343ca72609', size=3078), GitTreeResponseModel.GitTreeObject(path='README.md', mode='100644', type='blob', sha='8b297dc95f6833a1774f1dbd3a5fcc239e52b219', url='https://api.github.com/repos/JamesKim-4811/SnowflakeRAG/git/blobs/8b297dc95f6833a1774f1dbd3a5fcc239e52b219', size=53), GitTreeResponseModel.GitTreeObject(path='docs', mode='040000', type='tree', sha='52ee9a6005b4e2933b814d1aa4a1aceb2aa62cc4', url='https://api.github.com/repos/JamesKim-4811/SnowflakeRAG/git/trees/52ee9a6005b4e2933b814d1aa4a1aceb2aa62cc4', size=None), GitTreeResponseModel.GitTreeObject(path='pythonAPI.py', mode='100644', type='blob', sha='4739caa33b44b39cc4167e593b3ac6570837685c', url='https://api.github.com/repos/JamesKim-4811/SnowflakeRAG/git/blobs/4739caa33b44b39cc4167e593b3ac6570837685c', size=2894), GitTreeResponseModel.GitTreeObject(path='requirements.txt', mode='100644', type='blob', sha='c4b11fac1083200934ac0de7744c897e3bab11bc', url='https://api.github.com/repos/JamesKim-4811/SnowflakeRAG/git/blobs/c4b11fac1083200934ac0de7744c897e3bab11bc', size=2679), GitTreeResponseModel.GitTreeObject(path='streamlit_app.py', mode='100644', type='blob', sha='4e6d0d51e888d8acb2509541e50d99f8f6e0f1b9', url='https://api.github.com/repos/JamesKim-4811/SnowflakeRAG/git/blobs/4e6d0d51e888d8acb2509541e50d99f8f6e0f1b9', size=9855)], truncated=False)\n",
      "processing tree 9d363066f4424c7b2f3600a6ef220bcd55d63462\n",
      "Checking .DS_Store whether to FilterType.INCLUDE it based on the filter directories: ['docs']\n",
      "Checking if .DS_Store is a subdirectory of any of the filter directories\n",
      "ignoring .DS_Store due to filter\n",
      "Checking .devcontainer whether to FilterType.INCLUDE it based on the filter directories: ['docs']\n",
      "Checking if .devcontainer is a subdirectory of any of the filter directories\n",
      "ignoring .devcontainer due to filter\n",
      "Checking .gitattributes whether to FilterType.INCLUDE it based on the filter directories: ['docs']\n",
      "Checking if .gitattributes is a subdirectory of any of the filter directories\n",
      "ignoring .gitattributes due to filter\n",
      "Checking .gitignore whether to FilterType.INCLUDE it based on the filter directories: ['docs']\n",
      "Checking if .gitignore is a subdirectory of any of the filter directories\n",
      "ignoring .gitignore due to filter\n",
      "Checking README.md whether to FilterType.INCLUDE it based on the filter directories: ['docs']\n",
      "Checking if README.md is a subdirectory of any of the filter directories\n",
      "ignoring README.md due to filter\n",
      "Checking docs whether to FilterType.INCLUDE it based on the filter directories: ['docs']\n",
      "Checking if docs is a subdirectory of any of the filter directories\n",
      "tree object: GitTreeResponseModel.GitTreeObject(path='docs', mode='040000', type='tree', sha='52ee9a6005b4e2933b814d1aa4a1aceb2aa62cc4', url='https://api.github.com/repos/JamesKim-4811/SnowflakeRAG/git/trees/52ee9a6005b4e2933b814d1aa4a1aceb2aa62cc4', size=None)\n",
      "recursing into docs\n",
      "\tcurrent path: docs\n",
      "\ttree data: GitTreeResponseModel(sha='52ee9a6005b4e2933b814d1aa4a1aceb2aa62cc4', url='https://api.github.com/repos/JamesKim-4811/SnowflakeRAG/git/trees/52ee9a6005b4e2933b814d1aa4a1aceb2aa62cc4', tree=[GitTreeResponseModel.GitTreeObject(path='.DS_Store', mode='100644', type='blob', sha='46e8bd7f05123f96b115345e6e07b034b93fd11f', url='https://api.github.com/repos/JamesKim-4811/SnowflakeRAG/git/blobs/46e8bd7f05123f96b115345e6e07b034b93fd11f', size=6148), GitTreeResponseModel.GitTreeObject(path='1st-math-clarification.pdf', mode='100644', type='blob', sha='9b8bd9e61cae7d1635f6592f8432f8002b540ca4', url='https://api.github.com/repos/JamesKim-4811/SnowflakeRAG/git/blobs/9b8bd9e61cae7d1635f6592f8432f8002b540ca4', size=1405920), GitTreeResponseModel.GitTreeObject(path='K-8MathematicsStandards.pdf', mode='100644', type='blob', sha='65cd2a1800f54e8042bc04db31669b8307b31bb3', url='https://api.github.com/repos/JamesKim-4811/SnowflakeRAG/git/blobs/65cd2a1800f54e8042bc04db31669b8307b31bb3', size=340646), GitTreeResponseModel.GitTreeObject(path='K-math-clarification.pdf', mode='100644', type='blob', sha='23676fcf2070665c9d273be9f4f8e24e2b75b77d', url='https://api.github.com/repos/JamesKim-4811/SnowflakeRAG/git/blobs/23676fcf2070665c9d273be9f4f8e24e2b75b77d', size=1186828)], truncated=False)\n",
      "\tprocessing tree 52ee9a6005b4e2933b814d1aa4a1aceb2aa62cc4\n",
      "Checking docs/.DS_Store whether to FilterType.INCLUDE it based on the filter directories: ['docs']\n",
      "Checking if docs/.DS_Store is a subdirectory of any of the filter directories\n",
      "Checking docs/.DS_Store whether to FilterType.INCLUDE it based on the filter file extensions: ['.pdf']\n",
      "\tignoring .DS_Store due to filter\n",
      "Checking docs/1st-math-clarification.pdf whether to FilterType.INCLUDE it based on the filter directories: ['docs']\n",
      "Checking if docs/1st-math-clarification.pdf is a subdirectory of any of the filter directories\n",
      "Checking docs/1st-math-clarification.pdf whether to FilterType.INCLUDE it based on the filter file extensions: ['.pdf']\n",
      "\ttree object: GitTreeResponseModel.GitTreeObject(path='1st-math-clarification.pdf', mode='100644', type='blob', sha='9b8bd9e61cae7d1635f6592f8432f8002b540ca4', url='https://api.github.com/repos/JamesKim-4811/SnowflakeRAG/git/blobs/9b8bd9e61cae7d1635f6592f8432f8002b540ca4', size=1405920)\n",
      "\tfound blob 1st-math-clarification.pdf\n",
      "\tblob and full paths: [(GitTreeResponseModel.GitTreeObject(path='1st-math-clarification.pdf', mode='100644', type='blob', sha='9b8bd9e61cae7d1635f6592f8432f8002b540ca4', url='https://api.github.com/repos/JamesKim-4811/SnowflakeRAG/git/blobs/9b8bd9e61cae7d1635f6592f8432f8002b540ca4', size=1405920), 'docs/1st-math-clarification.pdf')]\n",
      "Checking docs/K-8MathematicsStandards.pdf whether to FilterType.INCLUDE it based on the filter directories: ['docs']\n",
      "Checking if docs/K-8MathematicsStandards.pdf is a subdirectory of any of the filter directories\n",
      "Checking docs/K-8MathematicsStandards.pdf whether to FilterType.INCLUDE it based on the filter file extensions: ['.pdf']\n",
      "\ttree object: GitTreeResponseModel.GitTreeObject(path='K-8MathematicsStandards.pdf', mode='100644', type='blob', sha='65cd2a1800f54e8042bc04db31669b8307b31bb3', url='https://api.github.com/repos/JamesKim-4811/SnowflakeRAG/git/blobs/65cd2a1800f54e8042bc04db31669b8307b31bb3', size=340646)\n",
      "\tfound blob K-8MathematicsStandards.pdf\n",
      "\tblob and full paths: [(GitTreeResponseModel.GitTreeObject(path='1st-math-clarification.pdf', mode='100644', type='blob', sha='9b8bd9e61cae7d1635f6592f8432f8002b540ca4', url='https://api.github.com/repos/JamesKim-4811/SnowflakeRAG/git/blobs/9b8bd9e61cae7d1635f6592f8432f8002b540ca4', size=1405920), 'docs/1st-math-clarification.pdf'), (GitTreeResponseModel.GitTreeObject(path='K-8MathematicsStandards.pdf', mode='100644', type='blob', sha='65cd2a1800f54e8042bc04db31669b8307b31bb3', url='https://api.github.com/repos/JamesKim-4811/SnowflakeRAG/git/blobs/65cd2a1800f54e8042bc04db31669b8307b31bb3', size=340646), 'docs/K-8MathematicsStandards.pdf')]\n",
      "Checking docs/K-math-clarification.pdf whether to FilterType.INCLUDE it based on the filter directories: ['docs']\n",
      "Checking if docs/K-math-clarification.pdf is a subdirectory of any of the filter directories\n",
      "Checking docs/K-math-clarification.pdf whether to FilterType.INCLUDE it based on the filter file extensions: ['.pdf']\n",
      "\ttree object: GitTreeResponseModel.GitTreeObject(path='K-math-clarification.pdf', mode='100644', type='blob', sha='23676fcf2070665c9d273be9f4f8e24e2b75b77d', url='https://api.github.com/repos/JamesKim-4811/SnowflakeRAG/git/blobs/23676fcf2070665c9d273be9f4f8e24e2b75b77d', size=1186828)\n",
      "\tfound blob K-math-clarification.pdf\n",
      "\tblob and full paths: [(GitTreeResponseModel.GitTreeObject(path='1st-math-clarification.pdf', mode='100644', type='blob', sha='9b8bd9e61cae7d1635f6592f8432f8002b540ca4', url='https://api.github.com/repos/JamesKim-4811/SnowflakeRAG/git/blobs/9b8bd9e61cae7d1635f6592f8432f8002b540ca4', size=1405920), 'docs/1st-math-clarification.pdf'), (GitTreeResponseModel.GitTreeObject(path='K-8MathematicsStandards.pdf', mode='100644', type='blob', sha='65cd2a1800f54e8042bc04db31669b8307b31bb3', url='https://api.github.com/repos/JamesKim-4811/SnowflakeRAG/git/blobs/65cd2a1800f54e8042bc04db31669b8307b31bb3', size=340646), 'docs/K-8MathematicsStandards.pdf'), (GitTreeResponseModel.GitTreeObject(path='K-math-clarification.pdf', mode='100644', type='blob', sha='23676fcf2070665c9d273be9f4f8e24e2b75b77d', url='https://api.github.com/repos/JamesKim-4811/SnowflakeRAG/git/blobs/23676fcf2070665c9d273be9f4f8e24e2b75b77d', size=1186828), 'docs/K-math-clarification.pdf')]\n",
      "blob and full paths: [(GitTreeResponseModel.GitTreeObject(path='1st-math-clarification.pdf', mode='100644', type='blob', sha='9b8bd9e61cae7d1635f6592f8432f8002b540ca4', url='https://api.github.com/repos/JamesKim-4811/SnowflakeRAG/git/blobs/9b8bd9e61cae7d1635f6592f8432f8002b540ca4', size=1405920), 'docs/1st-math-clarification.pdf'), (GitTreeResponseModel.GitTreeObject(path='K-8MathematicsStandards.pdf', mode='100644', type='blob', sha='65cd2a1800f54e8042bc04db31669b8307b31bb3', url='https://api.github.com/repos/JamesKim-4811/SnowflakeRAG/git/blobs/65cd2a1800f54e8042bc04db31669b8307b31bb3', size=340646), 'docs/K-8MathematicsStandards.pdf'), (GitTreeResponseModel.GitTreeObject(path='K-math-clarification.pdf', mode='100644', type='blob', sha='23676fcf2070665c9d273be9f4f8e24e2b75b77d', url='https://api.github.com/repos/JamesKim-4811/SnowflakeRAG/git/blobs/23676fcf2070665c9d273be9f4f8e24e2b75b77d', size=1186828), 'docs/K-math-clarification.pdf')]\n",
      "Checking pythonAPI.py whether to FilterType.INCLUDE it based on the filter directories: ['docs']\n",
      "Checking if pythonAPI.py is a subdirectory of any of the filter directories\n",
      "ignoring pythonAPI.py due to filter\n",
      "Checking requirements.txt whether to FilterType.INCLUDE it based on the filter directories: ['docs']\n",
      "Checking if requirements.txt is a subdirectory of any of the filter directories\n",
      "ignoring requirements.txt due to filter\n",
      "Checking streamlit_app.py whether to FilterType.INCLUDE it based on the filter directories: ['docs']\n",
      "Checking if streamlit_app.py is a subdirectory of any of the filter directories\n",
      "ignoring streamlit_app.py due to filter\n",
      "got 3 blobs\n",
      "Time to get blobs ([('1st-math-clarification.pdf', 1405920), ('K-8MathematicsStandards.pdf', 340646), ('K-math-clarification.pdf', 1186828)]): 0.34 seconds\n",
      "generating document for docs/1st-math-clarification.pdf\n",
      "could not decode docs/1st-math-clarification.pdf as utf-8\n",
      "generating document for docs/K-8MathematicsStandards.pdf\n",
      "could not decode docs/K-8MathematicsStandards.pdf as utf-8\n",
      "generating document for docs/K-math-clarification.pdf\n",
      "could not decode docs/K-math-clarification.pdf as utf-8\n"
     ]
    }
   ],
   "source": [
    "import nest_asyncio\n",
    "nest_asyncio.apply()\n",
    "\n",
    "from llama_index.readers.github import GithubRepositoryReader, GithubClient\n",
    "\n",
    "github_token = os.environ[\"GITHUB_TOKEN\"]\n",
    "github_client = GithubClient(github_token=github_token, verbose=False)\n",
    "\n",
    "reader = GithubRepositoryReader(\n",
    "  github_client=github_client,\n",
    "  owner=\"JamesKim-4811\",\n",
    "  repo=\"SnowflakeRAG\",\n",
    "  use_parser=False,\n",
    "  verbose=True,\n",
    "  filter_directories=(\n",
    "    [\"docs\"],\n",
    "    GithubRepositoryReader.FilterType.INCLUDE,\n",
    "  ),\n",
    "  filter_file_extensions=(\n",
    "    [\".pdf\"],\n",
    "    GithubRepositoryReader.FilterType.INCLUDE,\n",
    "  )\n",
    ")\n",
    "\n",
    "documents = reader.load_data(branch=\"main\")"
   ]
  },
  {
   "cell_type": "code",
   "execution_count": 6,
   "id": "564075f0-87ee-4b3d-82ea-404ed389ff1b",
   "metadata": {},
   "outputs": [
    {
     "data": {
      "text/plain": [
       "[]"
      ]
     },
     "execution_count": 6,
     "metadata": {},
     "output_type": "execute_result"
    }
   ],
   "source": [
    "documents"
   ]
  },
  {
   "cell_type": "code",
   "execution_count": null,
   "id": "79cc5eb1-97db-4280-be62-56f15d6bfd4c",
   "metadata": {},
   "outputs": [],
   "source": []
  }
 ],
 "metadata": {
  "kernelspec": {
   "display_name": "Python 3 (ipykernel)",
   "language": "python",
   "name": "python3"
  },
  "language_info": {
   "codemirror_mode": {
    "name": "ipython",
    "version": 3
   },
   "file_extension": ".py",
   "mimetype": "text/x-python",
   "name": "python",
   "nbconvert_exporter": "python",
   "pygments_lexer": "ipython3",
   "version": "3.11.10"
  }
 },
 "nbformat": 4,
 "nbformat_minor": 5
}
